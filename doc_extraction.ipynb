{
 "cells": [
  {
   "cell_type": "code",
   "execution_count": 1,
   "metadata": {},
   "outputs": [
    {
     "ename": "ImportError",
     "evalue": "cannot import name 'model_validator' from 'pydantic' (/Users/kazitasnimzinat/anaconda3/lib/python3.11/site-packages/pydantic/__init__.cpython-311-darwin.so)",
     "output_type": "error",
     "traceback": [
      "\u001b[0;31m---------------------------------------------------------------------------\u001b[0m",
      "\u001b[0;31mImportError\u001b[0m                               Traceback (most recent call last)",
      "Cell \u001b[0;32mIn[1], line 1\u001b[0m\n\u001b[0;32m----> 1\u001b[0m \u001b[38;5;28;01mfrom\u001b[39;00m \u001b[38;5;21;01mdocling\u001b[39;00m\u001b[38;5;21;01m.\u001b[39;00m\u001b[38;5;21;01mdocument_converter\u001b[39;00m \u001b[38;5;28;01mimport\u001b[39;00m DocumentConverter\n",
      "File \u001b[0;32m~/anaconda3/lib/python3.11/site-packages/docling/document_converter.py:8\u001b[0m\n\u001b[1;32m      5\u001b[0m \u001b[38;5;28;01mfrom\u001b[39;00m \u001b[38;5;21;01mpathlib\u001b[39;00m \u001b[38;5;28;01mimport\u001b[39;00m Path\n\u001b[1;32m      6\u001b[0m \u001b[38;5;28;01mfrom\u001b[39;00m \u001b[38;5;21;01mtyping\u001b[39;00m \u001b[38;5;28;01mimport\u001b[39;00m Dict, Iterable, Iterator, List, Optional, Type\n\u001b[0;32m----> 8\u001b[0m \u001b[38;5;28;01mfrom\u001b[39;00m \u001b[38;5;21;01mpydantic\u001b[39;00m \u001b[38;5;28;01mimport\u001b[39;00m BaseModel, ConfigDict, model_validator, validate_call\n\u001b[1;32m     10\u001b[0m \u001b[38;5;28;01mfrom\u001b[39;00m \u001b[38;5;21;01mdocling\u001b[39;00m\u001b[38;5;21;01m.\u001b[39;00m\u001b[38;5;21;01mbackend\u001b[39;00m\u001b[38;5;21;01m.\u001b[39;00m\u001b[38;5;21;01mabstract_backend\u001b[39;00m \u001b[38;5;28;01mimport\u001b[39;00m AbstractDocumentBackend\n\u001b[1;32m     11\u001b[0m \u001b[38;5;28;01mfrom\u001b[39;00m \u001b[38;5;21;01mdocling\u001b[39;00m\u001b[38;5;21;01m.\u001b[39;00m\u001b[38;5;21;01mbackend\u001b[39;00m\u001b[38;5;21;01m.\u001b[39;00m\u001b[38;5;21;01masciidoc_backend\u001b[39;00m \u001b[38;5;28;01mimport\u001b[39;00m AsciiDocBackend\n",
      "\u001b[0;31mImportError\u001b[0m: cannot import name 'model_validator' from 'pydantic' (/Users/kazitasnimzinat/anaconda3/lib/python3.11/site-packages/pydantic/__init__.cpython-311-darwin.so)"
     ]
    }
   ],
   "source": [
    "from docling.document_converter import DocumentConverter"
   ]
  },
  {
   "cell_type": "code",
   "execution_count": 2,
   "metadata": {},
   "outputs": [],
   "source": [
    "source = \"../Event_Sequence_Task_Typology.pdf\"  # document per local path or URL"
   ]
  },
  {
   "cell_type": "code",
   "execution_count": 3,
   "metadata": {},
   "outputs": [
    {
     "data": {
      "text/plain": [
       "'../Event_Sequence_Task_Typology.pdf'"
      ]
     },
     "execution_count": 3,
     "metadata": {},
     "output_type": "execute_result"
    }
   ],
   "source": [
    "source"
   ]
  },
  {
   "cell_type": "code",
   "execution_count": 4,
   "metadata": {},
   "outputs": [],
   "source": [
    "converter = DocumentConverter()"
   ]
  },
  {
   "cell_type": "code",
   "execution_count": 5,
   "metadata": {},
   "outputs": [
    {
     "data": {
      "application/vnd.jupyter.widget-view+json": {
       "model_id": "6ba052599ebf4730986a89a27272d750",
       "version_major": 2,
       "version_minor": 0
      },
      "text/plain": [
       "Fetching 9 files:   0%|          | 0/9 [00:00<?, ?it/s]"
      ]
     },
     "metadata": {},
     "output_type": "display_data"
    },
    {
     "data": {
      "application/vnd.jupyter.widget-view+json": {
       "model_id": "3c10593691804173b0962f6cad91fc43",
       "version_major": 2,
       "version_minor": 0
      },
      "text/plain": [
       ".gitignore:   0%|          | 0.00/5.18k [00:00<?, ?B/s]"
      ]
     },
     "metadata": {},
     "output_type": "display_data"
    },
    {
     "data": {
      "application/vnd.jupyter.widget-view+json": {
       "model_id": "127aaa1c966c45bc8f6028275e98cf13",
       "version_major": 2,
       "version_minor": 0
      },
      "text/plain": [
       "(…)artifacts/tableformer/fat/tm_config.json:   0%|          | 0.00/7.09k [00:00<?, ?B/s]"
      ]
     },
     "metadata": {},
     "output_type": "display_data"
    },
    {
     "data": {
      "application/vnd.jupyter.widget-view+json": {
       "model_id": "f1f1222781cd43d49c7eb96b79286316",
       "version_major": 2,
       "version_minor": 0
      },
      "text/plain": [
       ".gitattributes:   0%|          | 0.00/1.71k [00:00<?, ?B/s]"
      ]
     },
     "metadata": {},
     "output_type": "display_data"
    },
    {
     "data": {
      "application/vnd.jupyter.widget-view+json": {
       "model_id": "38b1261d90524525a154411a419eda57",
       "version_major": 2,
       "version_minor": 0
      },
      "text/plain": [
       "config.json:   0%|          | 0.00/41.0 [00:00<?, ?B/s]"
      ]
     },
     "metadata": {},
     "output_type": "display_data"
    },
    {
     "data": {
      "application/vnd.jupyter.widget-view+json": {
       "model_id": "750aa74de5674eadb88ef53dc3900362",
       "version_major": 2,
       "version_minor": 0
      },
      "text/plain": [
       "otslp_all_fast.check:   0%|          | 0.00/146M [00:00<?, ?B/s]"
      ]
     },
     "metadata": {},
     "output_type": "display_data"
    },
    {
     "data": {
      "application/vnd.jupyter.widget-view+json": {
       "model_id": "44e84fc001cc4f7cb5e322f2e6418abc",
       "version_major": 2,
       "version_minor": 0
      },
      "text/plain": [
       "otslp_all_standard_094_clean.check:   0%|          | 0.00/213M [00:00<?, ?B/s]"
      ]
     },
     "metadata": {},
     "output_type": "display_data"
    },
    {
     "data": {
      "application/vnd.jupyter.widget-view+json": {
       "model_id": "b2172fccc10141fd8397705a3ef5e234",
       "version_major": 2,
       "version_minor": 0
      },
      "text/plain": [
       "README.md:   0%|          | 0.00/3.49k [00:00<?, ?B/s]"
      ]
     },
     "metadata": {},
     "output_type": "display_data"
    },
    {
     "data": {
      "application/vnd.jupyter.widget-view+json": {
       "model_id": "530b5ee277c14d15bfbbc64ba0f31cbf",
       "version_major": 2,
       "version_minor": 0
      },
      "text/plain": [
       "(…)del_artifacts/tableformer/tm_config.json:   0%|          | 0.00/7.09k [00:00<?, ?B/s]"
      ]
     },
     "metadata": {},
     "output_type": "display_data"
    },
    {
     "data": {
      "application/vnd.jupyter.widget-view+json": {
       "model_id": "50fd6cb33487435ea44bf92fd2d6a486",
       "version_major": 2,
       "version_minor": 0
      },
      "text/plain": [
       "model.pt:   0%|          | 0.00/202M [00:00<?, ?B/s]"
      ]
     },
     "metadata": {},
     "output_type": "display_data"
    },
    {
     "name": "stderr",
     "output_type": "stream",
     "text": [
      "Downloading detection model, please wait. This may take several minutes depending upon your network connection.\n"
     ]
    },
    {
     "name": "stdout",
     "output_type": "stream",
     "text": [
      "Progress: |██████████████████████████████████████████████████| 100.0% Complete"
     ]
    },
    {
     "name": "stderr",
     "output_type": "stream",
     "text": [
      "Downloading recognition model, please wait. This may take several minutes depending upon your network connection.\n"
     ]
    },
    {
     "name": "stdout",
     "output_type": "stream",
     "text": [
      "Progress: |██████████████████████████████████████████████████| 100.0% Complete"
     ]
    }
   ],
   "source": [
    "result = converter.convert(source)"
   ]
  },
  {
   "cell_type": "code",
   "execution_count": 13,
   "metadata": {},
   "outputs": [
    {
     "name": "stdout",
     "output_type": "stream",
     "text": [
      "## A Multi-Level Task Framework for Event Sequence Analysis\n",
      "\n",
      "Kazi Tasnim Zinat , Saimadhav Naga Sakhamuri, Aaron Sun Chen and Zhicheng Liu\n",
      "\n",
      "Abstract -Despite the development of numerous visual analytics tools for event sequence data across various domains, including but not limited to healthcare, digital marketing, and user behavior analysis, comparing these domain-specific investigations and transferring the results to new datasets and problem areas remain challenging. Task abstractions can help us go beyond domain-specific details, but existing visualization task abstractions are insufficient for event sequence visual analytics because they primarily focus on multivariate datasets and often overlook automated analytical techniques. To address this gap, we propose a domain-agnostic multi-level task framework for event sequence analytics, derived from an analysis of 58 papers that present event sequence visualization systems. Our framework consists of four levels: objective, intent, strategy, and technique . Overall objectives identify the main goals of analysis. Intents comprises five high-level approaches adopted at each analysis step: augment data, simplify data, configure data, configure visualization, and manage provenance. Each intent is accomplished through a number of strategies, for instance, data simplification can be achieved through aggregation, summarization, or segmentation. Finally, each strategy can be implemented by a set of techniques depending on the input and output components. We further show that each technique can be expressed through a quartet of action-input-output-criteria . We demonstrate the framework's descriptive power through case studies and discuss its similarities and differences with previous event sequence task taxonomies.\n",
      "\n",
      "Index Terms -Task Abstraction, Event Sequence Data\n",
      "\n",
      "## 1 FRAMEWORK\n",
      "\n",
      "Our framework comprises four levels of tasks (Fig. 1). At the highest level, the overarching analysis objectives capture six high-level goals that users aim to achieve: anomaly detection, stage progression, pattern exploration, prediction & recommendation, correlation & causality analysis, and cohort comparison.\n",
      "\n",
      "Each objective involves realizing five main types of analysis intents : augment data, simplify data, configure data, configure visualization, and manage provenance.\n",
      "\n",
      "Each intent can be accomplished through different strategies , depending on the data or visualization components involved and the analysis approach. For example, the intent to simplify sequence data can be achieved using aggregation, summarization, or segmentation.\n",
      "\n",
      "At the most granular level, the framework defines techniques , which are the concrete, actionable analysis steps, such as creating new attributes, coalescing repeating events, or modifying summary patterns. Each technique can be described via a quartet of action , input , output , and criteria , which have been defined in ?? .\n",
      "\n",
      "## Objectives\n",
      "\n",
      "We identified six common high-level goals providing a broad categorization of objectives encompassing the majority of the papers:\n",
      "\n",
      "Anomaly Detection: Identifying rare or unexpected patterns or events that deviate significantly from expected behavior. Example: healthcare [ ? ]\n",
      "\n",
      "Stage Progression: Capturing evolution of processes across distinct stages or phases within sequences, by segmenting sequences and uncovering trends, paths, and factors influencing the transition over time. Example: healthcare [ ? ]\n",
      "\n",
      "Pattern Exploration: Discovering common patterns in event sequence data through exploratory analysis. Example: healthcare [ ? ], sports [ ? ], clickstream [ ? ], manufacturing [ ? ]\n",
      "\n",
      "Manuscript received xx xxx. 201x; accepted xx xxx. 201x. Date of Publication xx xxx. 201x; date of current version xx xxx. 201x. For information on obtaining reprints of this article, please send e-mail to: reprints@ieee.org. Digital Object Identifier: xx.xxxx/TVCG.201x.xxxxxxx\n",
      "\n",
      "Prediction & Recommendation: Modeling historical event sequence data to forecast future outcomes, and provide recommendations. Example: marketing [ ? ], healthcare [ ? ]\n",
      "\n",
      "Correlation & Causality: Investigating dependencies, and potential causal links between events. Example: social media [ ? ], healthcare [ ? ]\n",
      "\n",
      "Cohort Comparison: Analyzing the event sequences of different subpopulations to identify similarities, differences, and patterns specific to each cohort. Example: healthcare [ ? ], social media [ ? ]\n",
      "\n",
      "Intents, Strategies, and Techniques\n",
      "\n",
      "We now describe the intents , strategies , and techniques in our task framework. Fig. 1 lists the identified intents and strategies . Tab. 1 further elaborates on each technique along the action, input, output, and criteria dimensions. It is important to note that the list of techniques is not exhaustive and can be extended based on new systems and case studies. Depending on system design and implementation, the techniques may or may not involve a visualization display that dynamically updates with user action.\n",
      "\n",
      "## 1.1 Augment Data\n",
      "\n",
      "Data Augmentation refers to enhancing raw event sequence dataset by adding, modifying, or deriving new components, attributes, representations, or relationships that were not initially present in the dataset.\n",
      "\n",
      "## 1.1.1 DERIVE\n",
      "\n",
      "Derive entails conducting diverse operations on event sequence data to compute additional attributes or representations necessary for downstream analysis. In the data preprocessing pipeline, multiple techniques can be sequentially employed to achieve this strategy.\n",
      "\n",
      "Obtain Embeddings/Projections/Attributes: transforming raw event sequence data into a more structured, and analysis-ready format via augmenting embeddings or projections to facilitate subsequent modeling, and analysis. This often involves applying statistical or machine learning methods. For example EventThread [ ? ] calculates TF-IDF and creates a three-way tensor representation of sequence data. ProtoSteer [ ? ] calculates event and sequence embedding, and employs t-SNE to project the high-dimensional sequence embedding into a lower-dimensional space.\n",
      "\n",
      "Compute Similarity: quantifying the similarity or proximity between events, sequences, or patterns via distance metrics. For example, Sequence Synopsis [ ? ] uses Jaccard Index to calculate event similarity, and Levenshtein distance to calculate pattern similarity.\n",
      "\n",
      "Table 1: The action-input-output-criteria quartet characterizing techniques in our multi-level task framework. Each technique is defined by the action performed, the input data components, the desired output components, and the criteria guiding the transformation.\n",
      "\n",
      "| Action               | Input                                                                                                                 | Output                                                                              | Criteria                                                                                                                                                                                                                                                                                                                                                                                                           |\n",
      "|----------------------|-----------------------------------------------------------------------------------------------------------------------|-------------------------------------------------------------------------------------|--------------------------------------------------------------------------------------------------------------------------------------------------------------------------------------------------------------------------------------------------------------------------------------------------------------------------------------------------------------------------------------------------------------------|\n",
      "| Obtain               | Event Sequence Data                                                                                                   | Embeddings/ Projections/ Attributes                                                 | Statistical or machine learning algorithms, such as TF-IDF, dimensionality re- duction technique (e.g., t-SNE)                                                                                                                                                                                                                                                                                                     |\n",
      "| Compute              | Events, Sequences, Patterns                                                                                           | Similarity                                                                          | Statistical or machine learning algorithms, such as distance metric (e.g., Jaccard Index, Levenshtein Distance)                                                                                                                                                                                                                                                                                                    |\n",
      "| Align                | Set of Sequences                                                                                                      | Aligned Sequences                                                                   | Common reference point (e.g., origin time), specialized alignment procedures, (e.g., proxy event insertion, Dynamic Time Warping, shortest common superse- quence) Event: entry event, focal event of interest                                                                                                                                                                                                     |\n",
      "| Group                | Set of Sequences Set of Events                                                                                        | Grouped Sequences Event Hierarchy                                                   | Sequence attribute: categorical & continuous Derived: clustering, similarity to prototype Pattern: event subsequence (milestone) Automated algorithms, existing hierarchical structures, regular expression or                                                                                                                                                                                                     |\n",
      "| Mutate               | Event, Event Attribute, Patterns, Se- quence Attribute                                                                | Mutated sequences                                                                   | user-defined criteria User-defined scenario (e.g., altered event sentiment)                                                                                                                                                                                                                                                                                                                                        |\n",
      "| Coalesce             | Sequence                                                                                                              | Simplified Sequence                                                                 |                                                                                                                                                                                                                                                                                                                                                                                                                    |\n",
      "| Generate             | Sequence                                                                                                              | Next possible event                                                                 | Machine learning model (e.g., trained on historical event sequences) Repeating events of same type, frequently occurring event bundle                                                                                                                                                                                                                                                                              |\n",
      "| Combine              | Set of Sequences                                                                                                      | Tree/DAG                                                                            | Event and ancestor events                                                                                                                                                                                                                                                                                                                                                                                          |\n",
      "| Calculate            | Set of Sequences, Events, Event At-                                                                                   | Statistical Summary (e.g., histograms,                                              | Statistical formulae                                                                                                                                                                                                                                                                                                                                                                                               |\n",
      "|                      | Set of Sequences                                                                                                      | Common Patterns                                                                     | Mining algorithms (e.g., VMSP, Frequent Sequential Pattern, PrefixSpan, Multi-                                                                                                                                                                                                                                                                                                                                     |\n",
      "| Extract              |                                                                                                                       | Latent Patterns                                                                     | ple Sequence Alignment) Statistical or machine learning algorithms (e.g., HMM, CP Decomposition, hierarchical Bayesian models)                                                                                                                                                                                                                                                                                     |\n",
      "| Split Modify         | Sequence, Pattern Summary Patterns                                                                                    | Sequence or Pattern Segments Modified Summary Patterns                              | Event (e.g., landmark events), pattern (e.g., milestones), derived latent stages (e.g., content vector segmentation) Time: fixed time intervals (e.g., year, month, day), User domain knowledge (e.g., add/delete/edit events, merge/split patterns), thresholds (e.g. minimum support, gap tolerances, number of hidden states) Setting value to parameters, (e.g., window size, similarity threshold, importance |\n",
      "| Adjust               | Current data processing and mod- elling specifications Set of Sequences, Patterns, Events, Event Attributes, Sequence | Updated data processing and mod- elling specifications Query Output (filtered data) | measure, constraint/filter criteria) Event Attribute: categorical event types, event attribute ranges, event occurrence time, intervals, duration, derived event attribute Sequence Attribute: categorical and continuous sequence attributes, derived                                                                                                                                                             |\n",
      "| Query                | Attributes Data (e.g., Events, Event Attributes,                                                                      |                                                                                     | sequence properties (e.g., total duration, event count) Pattern: subsequences, time intervals, keywords, transitions, presence/absence of event set Advanced querying techniques: graphical queries, regular expressions                                                                                                                                                                                           |\n",
      "| Cross-Filter         | Sequence, Sequence Attributes, Pat- terns) glyph in one view                                                          | Filtered Data in coordinated views                                                  | Data attributes or dimension selection in other views                                                                                                                                                                                                                                                                                                                                                              |\n",
      "| Display Drill down - | Data (e.g., event, sequence, pattern) glyph                                                                           | Detailed Information                                                                | Selected data component                                                                                                                                                                                                                                                                                                                                                                                            |\n",
      "| Roll up              | Hierarchical data organization                                                                                        | Detailed View (Drill down) or Sum- mary View (Roll up)                              | User selected granularity                                                                                                                                                                                                                                                                                                                                                                                          |\n",
      "| Produce              | Event Sequence Data                                                                                                   | Visual Representation (e.g., timeline, graph, aggregate view, multivariate view)    | Visual encoding rules (e.g., position, size, color, shape, opacity)                                                                                                                                                                                                                                                                                                                                                |\n",
      "| Customize            | Visual Representation                                                                                                 | Customized Visual Representation                                                    | User preferences (e.g., color palette, node size/shape, edge style, glyph design, visual variable mapping) System-specific control(e.g., comparison mode toggle, update canvas size)                                                                                                                                                                                                                               |\n",
      "| Update               | Layout                                                                                                                | Updated layout                                                                      | Zoom level                                                                                                                                                                                                                                                                                                                                                                                                         |\n",
      "| Zoom                 | View                                                                                                                  | Zoomed View                                                                         |                                                                                                                                                                                                                                                                                                                                                                                                                    |\n",
      "| Pan                  | View                                                                                                                  | Panned View visually emphasized                                                     | Pan direction User selection                                                                                                                                                                                                                                                                                                                                                                                       |\n",
      "| Highlight            | Marks (e.g., events, patterns, se- quences)                                                                           | mark (e.g., change in color, opacity, border, glyph)                                |                                                                                                                                                                                                                                                                                                                                                                                                                    |\n",
      "| Select               | Data (e.g., Event, Event Attributes, Sequence, Sequence Attributes, Pat- terns) glyph                                 | Linked Highlighting                                                                 | User selection and underlying data corrrespondence                                                                                                                                                                                                                                                                                                                                                                 |\n",
      "| Reposition           | Set of Sequences                                                                                                      | Repositioned Sequences                                                              | Alignment event                                                                                                                                                                                                                                                                                                                                                                                                    |\n",
      "| Reorder/ Sort        | Events, Event Attributes, Sequence, Sequence Attributes, Patterns                                                     | Reordered/Sorted Components                                                         | Sorting criteria (e.g., frequency, alphabetical, temporal, correlation, prediction accuracy, attribute values, similarity, custom order)                                                                                                                                                                                                                                                                           |\n",
      "| Annotate Save/       | Data glyph Analysis State                                                                                             | Annotated Representation Saved/Recorded Analysis                                    | User notes, comments, descriptions User-specified snapshot                                                                                                                                                                                                                                                                                                                                                         |\n",
      "| Record               |                                                                                                                       |                                                                                     |                                                                                                                                                                                                                                                                                                                                                                                                                    |\n",
      "| Insert               | Sequence                                                                                                              |                                                                                     | User-defined timestamp                                                                                                                                                                                                                                                                                                                                                                                             |\n",
      "|                      |                                                                                                                       | Sequence with Marker Event                                                          |                                                                                                                                                                                                                                                                                                                                                                                                                    |\n",
      "\n",
      "Figure 1: Our multi-level task framework consists of four hierarchical levels: objectives , intents , strategies , and techniques . We identify six overarching objectives of event sequence analysis. Each analysis step is associated with one of the five intents , depicting the purpose of the analysis step. Intents are realized through multiple strategies . Finally, a wide range of techniques are available for implementing each strategy.\n",
      "\n",
      "| Objectives                           | Anomaly Detection Stage             | Anomaly Detection Stage                                            | Progression                                                                    | Progression                                    | Pattern Exploration   | Pattern Exploration                          | Prediction & Recommendation                     | Prediction & Recommendation              | Prediction & Recommendation                           | Correlation & Causality   | Correlation & Causality                             | Correlation & Causality           | Cohort Comparison                                                |\n",
      "|--------------------------------------|-------------------------------------|--------------------------------------------------------------------|--------------------------------------------------------------------------------|------------------------------------------------|-----------------------|----------------------------------------------|-------------------------------------------------|------------------------------------------|-------------------------------------------------------|---------------------------|-----------------------------------------------------|-----------------------------------|------------------------------------------------------------------|\n",
      "| Intents                              | Augment Data                        | Augment Data                                                       | Augment Data                                                                   | Simplify Data                                  | Simplify Data         | Simplify Data                                | Configure Data                                  | Configure Data                           | Configure Data                                        | Configure Visualization   | Configure Visualization                             | Configure Visualization           | Manage Provenance                                                |\n",
      "| Strategies                           | Derive                              | Organize                                                           | Simulate Aggregate                                                             |                                                | Summarize Segment     | Refine                                       | Include- Exclude                                | Abstract - Elaborate                     | Visualize                                             | Navigate                  | Focus                                               | Rearrange                         | Document                                                         |\n",
      "| Obtain Attributes Techniques Compute | Embeddings/ Projections/ Similarity | Group Mutate Sequences Create Generate Event Next Hierarchy Events | Coalesce Components   Repeating Events into One Possible Combine Events across | Calculate Distribution Extract Common Patterns | Split or Patterns     | Modify Sequences   Summary Adjust Parameters | Execute Dynamic Queries Cross-filter Components | Details-on - Demana Drill down - Roll up | Produce Visual Representati Customize Visual Encoding | Zoom Pan                  | Highlight Marks Reposition Select & Link components | Sequences Reorder/Sort Components | Annotate Components Save/Record Analysis Insert Marker Event New |\n",
      "\n",
      "Align Sequences: establishing correspondences between events across multiple sequences based on a common reference point or shared semantic meaning. Event sequence alignment is crucial when dealing with variable-length sequences, inconsistent event orders, or gaps. Event sequence tools typically align sequences using a common origin time, such as first event. Some tools use specialized alignment algorithms, such as EventThread2 [ ? ] uses Dynamic Time Warping, Sequence Braiding [ ? ] finds the Shortest Common Supersequence.\n",
      "\n",
      "## 1.1.2 ORGANIZE\n",
      "\n",
      "ORGANIZE refers to assembling and grouping similar sequences or events based on specific criteria or attributes.\n",
      "\n",
      "Group Sequences: organizing event sequences into distinct groups or clusters. Criteria for grouping include:\n",
      "\n",
      "events , e.g., group sequences by entry event (CoreFlow [ ? ], EventFlow [ ? ] ); event subsequences (milestones) or focal events of interest (GapFlow [ ? ])\n",
      "\n",
      "event properties , to support attribute-based analysis, e.g., group by categorical event types (MatrixWave [ ? ]) or partitioning continuous event attributes into meaningful ranges (Segmentifier [ ? ]).\n",
      "\n",
      "sequence-level metadata , such as demographics or other non-temporal attributes to support analyzing population subgroups. Common methods include grouping by sequence attributes: both categorical like gender and numerical like age (TipoVis [ ? ]); or derived sequence properties like total duration, event count (SessionViewer [ ? ]).\n",
      "\n",
      "clustering on derived attributes , involves attribute-based grouping derived as discussed in 1.1.1. Sequence Synopsis [ ? ] clusters sequences mapping to the same pattern. EventThread [ ? ], groups sequence segments by cluster similarity.\n",
      "\n",
      "Create Event Hierarchy: combining available event types into higherlevel categories or meta-events based on semantic similarity, hierarchical relationships, or user-defined criteria. The definition of event categories can vary based on criteria, such as: automated algorithms (e.g., Cadence [ ? ]), existing hierarchical structures (e.g., MatrixWave [ ? ], Segmentifier [ ? ]), regular expression (e.g., Eventpad [ ? ]) or userdefined criteria (e.g., Patterns and Sequences [ ? ], Eloquence [ ? ]).\n",
      "\n",
      "## 1.1.3 SIMULATE\n",
      "\n",
      "Simulate refers to generating hypothetical or predictive scenarios, enabling users to analyze the potential outcomes, dependencies, and implications of different events or patterns.\n",
      "\n",
      "Mutate Components: altering specific components or properties to simulate and analyze alternative scenarios, enabling what-if analysis. In OpinionFlow [ ? ], the impact of changing event attributes can be observed on downstream events via adjusting tweet sentiment.\n",
      "\n",
      "Generate Next Possible Events: predicting the likelihood of future events based on patterns observed in historical event sequences through machine learning models. Generating next possible events enables\n",
      "\n",
      "analysts to anticipate future outcomes, plan for potential scenarios, and make data-driven decisions (OpinionFlow [ ? ]).\n",
      "\n",
      "## 1.2 Simplify Data\n",
      "\n",
      "Data Simplification refers to reducing the complexity or scale of an event sequence dataset to make it more amenable to automated processing or human inspection.\n",
      "\n",
      "## 1.2.1 AGGREGATE\n",
      "\n",
      "Aggregate involves replacing multiple events with a single representative event, reducing the number or type of events in the visualization. Coalesce Repeating Events into One: merging consecutive events within a sequence into a single representative event. The merging can be done by selecting one event as representative and discarding duplicates (e.g., Segmentifier [ ? ]), or by creating a new event that encompasses the duration or attributes of the merged events (e.g., EventFlow [ ? ]). Combine Events across Sequences: aggregating similar events across multiple sequences and organizing them into a hierarchical or graphbased structure, such as a tree (e.g., EvenFlow [ ? ]) or a directed acyclic graph (DAG) (e.g., Sankey diagram). This transformation provides a more compact representation of the event sequences.\n",
      "\n",
      "## 1.2.2 SUMMARIZE\n",
      "\n",
      "Summarize involves generating a concise overview of the entire dataset or its selected subsets. The process includes computing statistical distributions to present the data in an easily understandable form or applying algorithms to extract representative patterns. The primary goal of summarization is to provide a high-level understanding of the key characteristics and statistical properties without being overwhelmed by the full complexity of the data.\n",
      "\n",
      "Calculate Distribution: apply statistical methods to form mathematical summaries of event sequences, enabling both confirmatory and exploratory analysis. These summaries encompass metrics on distributions and probabilities over event sequence attributes. Examples include histograms (e.g., Segmentifier [ ? ], Cadence [ ? ]), type distributions (e.g., SessionViewer [ ? ]), and inter-arrival times between event types (e.g., EventFlow [ ? ])\n",
      "\n",
      "Extract Common Patterns: algorithmically extracting frequently occurring subsequences based on events that are present in the data. Examples include temporal pattern mining techniques, such as recursive branching pattern mining (e.g., CoreFlow [ ? ]), VMSP (e.g., Patterns and Sequences [ ? ], MAQUI [ ? ]), Frequent Sequential Pattern (e.g., SentenTree [ ? ]), PrefixSpan (e.g., Eloquence [ ? ]), or Multiple Sequence Alignment (e.g., EventPad [ ? ]).\n",
      "\n",
      "Extract Latent Patterns: using statistical or machine learning methods to discover hidden sequential structures and trends implicitly embedded within event sequences. Examples include probabilistic methods, such as Hidden Markov Models (e.g., DPVis [ ? ]), Algorithms like hierarchical Bayesian Rose Tree models (e.g, OpinionFlow [ ? ]) to group sequences with similar semantic content.\n",
      "\n",
      "## 1.2.3 SEGMENT\n",
      "\n",
      "Segment refers to breaking down lengthy sequences into smaller, more manageable segments based on specific criteria or temporal boundaries. Split Sequences or Patterns: decomposing event sequences into meaningful subsequences or segments. Criteria for splitting include:\n",
      "\n",
      "temporal folding , dividing large-scale event sequence data collected over extended periods into segments of fixed time intervals, such as a year, a month, or a day) (e.g., EventThread [ ? ], STBins [ ? ]).\n",
      "\n",
      "key event , dividing sequences into pre- and post-event segments to analyze antecedent and sequelae patterns relative to the key event (e.g., MAQUI [ ? ], EventThread [ ? ]), or segmenting sequences based on the presence or absence of a key event or pattern to compare alternative trajectories ( e.g., DecisionFlow [ ? ], MAQUI [ ? ])\n",
      "\n",
      "derived attributes , such as content vector segmentation (e.g., EventThread2 [ ? ]).\n",
      "\n",
      "dynamic splitting of segments with a shared pattern ( e.g., CoreFlow [ ? ], Patterns & Sequences [ ? ]).\n",
      "\n",
      "## 1.3 Configure Data\n",
      "\n",
      "Configuring Data comprise modifying and experimenting with different components, properties, and granularity of an event sequence dataset for exploration, aiming to identify the optimal amount of data required for subsequent analysis.\n",
      "\n",
      "## 1.3.1 REFINE\n",
      "\n",
      "Refine refers to iteratively improving or fine-tuning the analysis data based on domain knowledge, or evolving requirements. Refinement enables progressive adjustments of analysis outcomes, incorporating user expertise and insights to obtain precise and meaningful results.\n",
      "\n",
      "Modify Summary: supporting modifications and calibrations of systemgenerated summarized representations or patterns, enabling users to incorporate their domain knowledge. Users can iteratively finetune the automatically generated summaries until they are satisfied with the representation. Examples of modification operations include adding/deleting/editing events in patterns (e.g., ProtoSteer [ ? ]), and merging/splitting patterns (e.g., EventThread2 [ ? ]). Summaries produced by extracting common patterns (1.2.2) can be calibrated using minimum support thresholds and gap tolerances. Similarly, summaries generated from extracting latent patterns (1.2.2) can be customized by controlling the number of hidden states.\n",
      "\n",
      "Adjust Parameters: fine-tuning parameters that affect data processing and modeling, without directly manipulating the visual representation itself. Users can adjust various parameters, including temporal settings (e.g. window size or duration in STBins [ ? ]), grouping settings (e.g., similarity measure thresholds in EventThread [ ? ]), aggregation settings (e.g., importance measures for grouping events in Cadence [ ? ]), constraint/filtering parameters (e.g., toggling rules in EventPad [ ? ] or modifying constraints in Eloquence [ ? ]).\n",
      "\n",
      "## 1.3.2 INCLUDE-EXCLUDE\n",
      "\n",
      "Include-Exclude refers to controlling the subset of event sequence data under consideration, enabling users to focus on relevant subsets and eliminate irrelevant information during analysis.\n",
      "\n",
      "Execute Dynamic Queries: refer to applying filters, selections, or search criteria to retrieve matched subset. Dynamic queries span various components of event sequence data and visual elements, including filtering by event types, categories, or attributes (e.g., Cadence [ ? ], EventPad [ ? ]), selecting specific subsequences, stages, or time intervals (e.g., DPVis [ ? ], Segmentifier [ ? ]), searching for keywords or patterns (e.g., ProtoSteer [ ? ], Eloquence [ ? ]), filtering based on sequence attributes (e.g., Sequence Braiding [ ? ], Eloquence [ ? ]), filtering based on transitions (e.g., DPVis [ ? ]), querying for the presence or absence of specific events, milestones, or patterns (e.g., Eloquence [ ? ]), and applying advanced querying techniques such as graphical queries, or regular expressions (e.g., Cadence [ ? ], EventFlow [ ? ]).\n",
      "\n",
      "Cross-filter Components: applying filters in one view and automatically updating other coordinated views. By applying filters or selections in one context and observing the immediate impact on related contexts, analysts can gain insights into how different data attributes or dimensions correlate. Examples include cross-filtering via interactions (OpinionFlow [ ? ], MAQUI [ ? ]) or query languages (DPVis [ ? ]).\n",
      "\n",
      "## 1.3.3 ABSTRACT-ELABORATE\n",
      "\n",
      "Abstract-Elaborate involves interactively adjusting the level of detail, granularity, or abstraction of event sequence data representation. This strategy enables dynamic exploration of different levels of abstraction, from high-level overviews to detailed, fine-grained representations.\n",
      "\n",
      "Details-on-Demand: providing users with additional information about specific event sequence components upon interaction. This technique helps analyst gain insights into specific aspects while maintaining the overall context. This information can be presented in various forms, such as: tooltips (e.g., Segmentifier [ ? ]), sidebar (e.g., STBins [ ? ], OutFlow [ ? ]), separate information panels (e.g., Sequence Braiding [ ? ], EventPad [ ? ]) or Expanded views (e.g., DPVis [ ? ]).\n",
      "\n",
      "Drill down-Roll up: supporting data navigation at various levels of detail. transitioning between detailed, lower-level representations (drill down) and summarized, higher-level abstractions (roll up). For example, Lifeline [ ? ] provides semantic zooming to expand desired facets (low-level abstraction), and use silhouettes and shadows when full details can't be shown on the overview (high-level abstraction). The technique is facilitated by underlying hierarchical data organization. Implementation ideas include showing or hiding labels or annotations (e.g., Eloquence [ ? ], OpinionFlow [ ? ]), creating a new context view (e.g., EventPad [ ? ], Patterns and Sequences [ ? ]) or modifying the layout (e.g., LifeLines [ ? ]) to accommodate new level of detail.\n",
      "\n",
      "## 1.4 Configure Visualization\n",
      "\n",
      "Configuring visualization refers to modifying and adjusting different visual properties, and layouts of an event sequence visualization to explore alternative representations, and enhance the communication of insights. Visual configuration allows users to tailor the visualization to their perceptual preferences and storytelling needs.\n",
      "\n",
      "## 1.4.1 VISUALIZE\n",
      "\n",
      "Visualize refers to applying or updating rules that map data to visual marks or mark properties, creating graphical representations.\n",
      "\n",
      "Produce Visual Representation: converting sequences and associated attributes into visual forms that effectively communicate patterns, relationships, and insights. The generated visual representations leverage various visual elements, such as timelines, graphs, charts, glyphs, and diverse color schemes, to convey the structure, temporal dynamics, and characteristics of the event sequences.\n",
      "\n",
      "The data elements are mapped to visual channels such as position, size, color, shape, or opacity. The choice of visual encodings depends on the nature of the data, the analysis goals, and the desired level of detail or abstraction. A detailed description of all kinds of visual representation in beyond the scope of this work, and has been covered extensively in prior works [ ? , ? ].\n",
      "\n",
      "Customize Visual Encoding: directly modifying visual representations of event sequences and associated attributes. The primary focus is enhancing readability, interpretability, and communication of insights by aligning visual representations with user preferences or analysis goals.\n",
      "\n",
      "Customization may include visual encoding adjustments such as line thickness or spacing (e.g., sequence braiding [ ? ]), selecting different visual designs (e.g., ActiviTree [ ? ], STBins [ ? ]), adjusting transparency levels (e.g., Eloquence [ ? ]), changing canvas size (e.g., CoreFlow [ ? ]), selecting color palettes (e.g., Eloquence [ ? ]), defining node shapes, edge styles, or glyph designs.\n",
      "\n",
      "Update Layout: adapting the presentation mode of an event sequence visualization to accommodate diverse analysis requirements. It involves adjusting layout parameters, such as canvas dimensions (e.g., CoreFlow [ ? ]) or visualization modes (e.g., ( s|q ) ueries [ ? ], ProtoSteer [ ? ]).\n",
      "\n",
      "Navigate depicts interactively exploring and modifying viewport or visible area of a visualization to focus on specific regions or time periods. Zoom: dynamically adjusting the magnification level within a single, consistent view. Zooming enables multi-scale exploration to ensure readability and clarity of the displayed information. Visualization tools may employ animated transitions or progressive loading to enhance the zooming experience. Users can initiate the zooming action through dedicated zoom controls (e.g., MatrixWave [ ? ], LifeLines2 [ ? ])\n",
      "\n",
      "Pan: interactively exploring different parts of the displayed event sequences by shifting the viewport. Panning enables inspection of lengthy or complex sequences in a continuous and fluid manner without losing context. Usually, horizontal panning shifts the visible area along the time axis, revealing the temporal progression and relationships among events (e.g., LifeLines2 [ ? ], MatrixWave [ ? ]). Some tools also support vertical panning, especially when dealing with a large number of sequences (e.g., EventPad [ ? ]).\n",
      "\n",
      "## 1.4.3 FOCUS\n",
      "\n",
      "Focus denotes visually emphasizing specific elements, patterns, or subsets of interest, guiding user attention towards the emphasized element. Highlight Marks: emphasizing or accentuating specific components of interest within the visualization. This involves applying distinct visual attributes or effects to the selected marks, such as changing color (e.g., SentenTree [ ? ]), opacity (e.g., MatrixWave [ ? ], SentenTree [ ? ]), adding border (e.g., Lifelines [ ? ], Patterns and Sequences [ ? ]), or using visual cues like glyphs (e.g., TipoVis [ ? ]) or annotations.\n",
      "\n",
      "Select & Link Components: synchronized selection and highlighting of elements across different views. By visually connecting related elements across views, linked selection helps users gain a holistic understanding. For example, in Sequence Synopsis [ ? ] selecting a pattern in the summary view highlights individual sequences containing the pattern in the detailed view. In DecisionFlow [ ? ], selection of an event in other panels remain consistent across pattern panel.\n",
      "\n",
      "## 1.4.4 REARRANGE\n",
      "\n",
      "Rearrange depicts changing the spatial arrangement or positioning of visual items within the visualization layout. It involves modifying the order of visual elements to improve overall readability and interpretability. Reposition Sequences: changing the visual arrangement by centering sequence layout around a specific event of interest, facilitating exploration of temporal relationships before and after the alignment point. Repositioning can help uncover insights that may be obscured in default configuration. This technique is often accompanied by an animated transition for smooth user experience (e.g., Sequence Synopsis [ ? ]). Reorder/Sort Components: reordering the displayed components, in ascending or descending order. Sorting across multiple attributes is possible, with primary criteria taking precedence and subsequent ones breaking ties or refining the ordering. Sorting can be performed on subsets, such as sorting sequences within a cluster, events within a time range, or attributes within a category.\n",
      "\n",
      "There is a wide range of sorting criteria, including, frequency (LifeFlow [ ? ]), number of occurrences (TipoVis [ ? ]), rarity (EventPad [ ? ]), similarity (Sequence Synopsis [ ? ]), alphabetical order (MatrixWave [ ? ]), average time to previous event (LifeFlow [ ? ]), correlation with outcome (Cadence [ ? ]), accuracy or performance (ProtoSteer [ ? ]), attribute values (quantitative) (Sequence Braiding [ ? ]), attribute name (qualitative) (TipoVis [ ? ]), custom (MatrixWave [ ? ]).\n",
      "\n",
      "## 1.5 Manage Provenance\n",
      "\n",
      "Provenance encapsulates tracking, recording, and managing the history of data states, insights, and actions throughout exploration and analysis. It involves documenting applied transformations and their validations, result interpretations, and decision-making processes. The aim is to ensure transparency, reproducibility, and trustworthiness of analysis results by providing a comprehensive trail of the steps taken, assumptions made, and conclusions drawn.\n",
      "\n",
      "Documenting involves providing the means to create, manage, and organize insights or metadata associated with analysis.\n",
      "\n",
      "Annotate Components: providing mechanisms to add textual notes, comments, or descriptions to specific elements, subsets, or regions of the visualized data. This allows users to document their findings, insights, hypotheses, or any relevant information discovered during the analysis process. Annotation facilitates collaboration, knowledge sharing, enabling future reference (e.g., SessionViewer [ ? ]).\n",
      "\n",
      "Save/ Record Analysis: storing specific snapshots of the analysis process for future reference or further investigation. Save/Record enables iterative analysis, and ensures reproducibility. This technique enables users to create a record of their analytical progress (e.g., Segmentifier [ ? ], ProtoSteer [ ? ]), key findings, or interesting subsets of the data (e.g., EventPad [ ? ], DPVis [ ? ]),as well as design preferences (e.g., Eloquence [ ? ]) facilitating the ability to resume the analysis at a later time, or compare different stages of the exploration.\n",
      "\n",
      "Insert New Marker Event: manual insertion of new events at specific points within existing event sequences. These user-defined events, known as marker events, serve as reference points deemed significant by the users for analysis or interpretation (e.g., EventFlow [ ? ], GapFlow [ ? ]). By creating new marker events, users can enrich the event sequences with additional contextual information.\n"
     ]
    }
   ],
   "source": [
    "print(\n",
    "    result.document.export_to_markdown()\n",
    ")  # output: \"## Docling Technical Report[...]\"\n",
    "with open(\"output.md\", \"w\") as md_file:\n",
    "    md_file.write(result.document.export_to_markdown())"
   ]
  },
  {
   "cell_type": "code",
   "execution_count": null,
   "metadata": {},
   "outputs": [],
   "source": [
    "import re\n",
    "from xml.etree import ElementTree as ET\n",
    "from xml.dom import minidom"
   ]
  },
  {
   "cell_type": "code",
   "execution_count": null,
   "metadata": {},
   "outputs": [],
   "source": [
    "def markdown_to_xml(md_file, xml_file):\n",
    "    # Read markdown file\n",
    "    with open(md_file, \"r\") as f:\n",
    "        content = f.read()\n",
    "\n",
    "    # Create root element\n",
    "    root = ET.Element(\"document\")\n",
    "\n",
    "    # Split content into sections by headers\n",
    "    sections = re.split(r\"(?=## )\", content)\n",
    "\n",
    "    for section in sections:\n",
    "        if section.strip():\n",
    "            # Extract header and content\n",
    "            parts = section.split(\"\\n\", 1)\n",
    "            if len(parts) > 1:\n",
    "                header = parts[0].strip(\"# \")\n",
    "                content = parts[1].strip()\n",
    "\n",
    "                # Create section element\n",
    "                section_elem = ET.SubElement(root, \"section\")\n",
    "                title_elem = ET.SubElement(section_elem, \"title\")\n",
    "                title_elem.text = header\n",
    "                content_elem = ET.SubElement(section_elem, \"content\")\n",
    "                content_elem.text = content\n",
    "\n",
    "    # Pretty print XML\n",
    "    xml_str = minidom.parseString(ET.tostring(root)).toprettyxml(indent=\"    \")\n",
    "\n",
    "    # Write to file\n",
    "    with open(xml_file, \"w\") as f:\n",
    "        f.write(xml_str)"
   ]
  },
  {
   "cell_type": "code",
   "execution_count": null,
   "metadata": {},
   "outputs": [],
   "source": [
    "# Usage\n",
    "markdown_to_xml(\"output.md\", \"output.xml\")"
   ]
  },
  {
   "cell_type": "code",
   "execution_count": 12,
   "metadata": {},
   "outputs": [],
   "source": [
    "result.document.model_dump_json()\n",
    "with open(\"output.json\", \"w\") as file:\n",
    "    file.write(result.document.model_dump_json())"
   ]
  }
 ],
 "metadata": {
  "kernelspec": {
   "display_name": "base",
   "language": "python",
   "name": "python3"
  },
  "language_info": {
   "codemirror_mode": {
    "name": "ipython",
    "version": 3
   },
   "file_extension": ".py",
   "mimetype": "text/x-python",
   "name": "python",
   "nbconvert_exporter": "python",
   "pygments_lexer": "ipython3",
   "version": "3.11.5"
  }
 },
 "nbformat": 4,
 "nbformat_minor": 2
}
