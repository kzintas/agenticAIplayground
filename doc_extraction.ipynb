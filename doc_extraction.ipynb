{
 "cells": [
  {
   "cell_type": "code",
   "execution_count": 36,
   "metadata": {},
   "outputs": [],
   "source": [
    "import json\n",
    "import logging\n",
    "import time\n",
    "from pathlib import Path"
   ]
  },
  {
   "cell_type": "code",
   "execution_count": 37,
   "metadata": {},
   "outputs": [],
   "source": [
    "from docling.datamodel.base_models import InputFormat\n",
    "from docling.document_converter import DocumentConverter, PdfFormatOption\n",
    "from docling.datamodel.pipeline_options import PdfPipelineOptions, TableFormerMode"
   ]
  },
  {
   "cell_type": "code",
   "execution_count": 38,
   "metadata": {},
   "outputs": [],
   "source": [
    "source1 = \"../Event_Sequence_Task_Typology.pdf\"  # document per local path or URL\n",
    "source2 = \"../Event_Sequence_Task_Typology_supp.pdf\"  # document per local path or URL"
   ]
  },
  {
   "cell_type": "code",
   "execution_count": 39,
   "metadata": {},
   "outputs": [],
   "source": [
    "pipeline_options = PdfPipelineOptions(do_table_structure=True)\n",
    "pipeline_options.table_structure_options.mode = (\n",
    "    TableFormerMode.ACCURATE\n",
    ")  # use more accurate TableFormer model\n",
    "\n",
    "pipeline_options.table_structure_options.do_cell_matching = True\n",
    "doc_converter = DocumentConverter(\n",
    "    format_options={InputFormat.PDF: PdfFormatOption(pipeline_options=pipeline_options)}\n",
    ")"
   ]
  },
  {
   "cell_type": "code",
   "execution_count": 40,
   "metadata": {},
   "outputs": [],
   "source": [
    "_log = logging.getLogger(__name__)"
   ]
  },
  {
   "cell_type": "code",
   "execution_count": 41,
   "metadata": {},
   "outputs": [
    {
     "name": "stderr",
     "output_type": "stream",
     "text": [
      "INFO:docling.document_converter:Going to convert document batch...\n",
      "INFO:docling.utils.accelerator_utils:Accelerator device: 'mps'\n",
      "INFO:docling.utils.accelerator_utils:Accelerator device: 'mps'\n",
      "INFO:docling.utils.accelerator_utils:Accelerator device: 'mps'\n",
      "INFO:docling.pipeline.base_pipeline:Processing document Event_Sequence_Task_Typology.pdf\n",
      "INFO:docling.document_converter:Finished converting document Event_Sequence_Task_Typology.pdf in 12.87 sec.\n",
      "INFO:__main__:Document converted in 12.87 seconds.\n"
     ]
    }
   ],
   "source": [
    "logging.basicConfig(level=logging.INFO)\n",
    "start_time = time.time()\n",
    "conv_result = doc_converter.convert(source1)\n",
    "end_time = time.time() - start_time\n",
    "_log.info(f\"Document converted in {end_time:.2f} seconds.\")\n",
    "\n",
    "with open(\"output.md\", \"w\") as md_file:\n",
    "    md_file.write(conv_result.document.export_to_markdown())"
   ]
  },
  {
   "cell_type": "code",
   "execution_count": 42,
   "metadata": {},
   "outputs": [
    {
     "name": "stderr",
     "output_type": "stream",
     "text": [
      "INFO:docling.document_converter:Going to convert document batch...\n",
      "INFO:docling.pipeline.base_pipeline:Processing document Event_Sequence_Task_Typology_supp.pdf\n",
      "INFO:docling.document_converter:Finished converting document Event_Sequence_Task_Typology_supp.pdf in 6.24 sec.\n",
      "INFO:__main__:Document converted in 6.24 seconds.\n"
     ]
    }
   ],
   "source": [
    "start_time = time.time()\n",
    "conv_result = doc_converter.convert(source2)\n",
    "end_time = time.time() - start_time\n",
    "_log.info(f\"Document converted in {end_time:.2f} seconds.\")\n",
    "\n",
    "with open(\"output.md\", \"a\") as md_file:\n",
    "    md_file.write(conv_result.document.export_to_markdown())"
   ]
  },
  {
   "cell_type": "markdown",
   "metadata": {},
   "source": [
    "## Remove references"
   ]
  },
  {
   "cell_type": "code",
   "execution_count": 43,
   "metadata": {},
   "outputs": [],
   "source": [
    "import re"
   ]
  },
  {
   "cell_type": "code",
   "execution_count": 44,
   "metadata": {},
   "outputs": [],
   "source": [
    "def remove_references(input_file, output_file):\n",
    "    try:\n",
    "        # Read the content of the file\n",
    "        with open(input_file, \"r\", encoding=\"utf-8\") as f:\n",
    "            content = f.read()\n",
    "\n",
    "        # Remove [ ? ] references using regex\n",
    "        # This pattern matches [ ? ] with optional whitespace\n",
    "        cleaned_content = re.sub(r\"\\s*\\[\\s*\\?\\s*\\]\\s*\", \" \", content)\n",
    "\n",
    "        # Write the cleaned content back to file\n",
    "        with open(output_file, \"w\", encoding=\"utf-8\") as f:\n",
    "            f.write(cleaned_content)\n",
    "\n",
    "        print(f\"Successfully removed references from {input_file}\")\n",
    "        print(f\"Output saved to {output_file}\")\n",
    "\n",
    "    except Exception as e:\n",
    "        print(f\"An error occurred: {str(e)}\")"
   ]
  },
  {
   "cell_type": "code",
   "execution_count": null,
   "metadata": {},
   "outputs": [],
   "source": [
    "# Use the function\n",
    "input_path = \"output.md\"\n",
    "output_path = \"output_cleaned.md\"\n",
    "\n",
    "remove_references(input_path, output_path)"
   ]
  },
  {
   "cell_type": "markdown",
   "metadata": {},
   "source": [
    "## previous pipeline\n"
   ]
  },
  {
   "cell_type": "code",
   "execution_count": null,
   "metadata": {},
   "outputs": [],
   "source": [
    "converter = DocumentConverter()"
   ]
  },
  {
   "cell_type": "code",
   "execution_count": null,
   "metadata": {},
   "outputs": [],
   "source": [
    "result = converter.convert(source1)"
   ]
  },
  {
   "cell_type": "code",
   "execution_count": null,
   "metadata": {},
   "outputs": [],
   "source": [
    "print(\n",
    "    result.document.export_to_markdown()\n",
    ")  # output: \"## Docling Technical Report[...]\"\n",
    "with open(\"output.md\", \"w\") as md_file:\n",
    "    md_file.write(result.document.export_to_markdown())"
   ]
  },
  {
   "cell_type": "code",
   "execution_count": null,
   "metadata": {},
   "outputs": [],
   "source": [
    "import re\n",
    "from xml.etree import ElementTree as ET\n",
    "from xml.dom import minidom"
   ]
  },
  {
   "cell_type": "code",
   "execution_count": null,
   "metadata": {},
   "outputs": [],
   "source": [
    "def markdown_to_xml(md_file, xml_file):\n",
    "    # Read markdown file\n",
    "    with open(md_file, \"r\") as f:\n",
    "        content = f.read()\n",
    "\n",
    "    # Create root element\n",
    "    root = ET.Element(\"document\")\n",
    "\n",
    "    # Split content into sections by headers\n",
    "    sections = re.split(r\"(?=## )\", content)\n",
    "\n",
    "    for section in sections:\n",
    "        if section.strip():\n",
    "            # Extract header and content\n",
    "            parts = section.split(\"\\n\", 1)\n",
    "            if len(parts) > 1:\n",
    "                header = parts[0].strip(\"# \")\n",
    "                content = parts[1].strip()\n",
    "\n",
    "                # Create section element\n",
    "                section_elem = ET.SubElement(root, \"section\")\n",
    "                title_elem = ET.SubElement(section_elem, \"title\")\n",
    "                title_elem.text = header\n",
    "                content_elem = ET.SubElement(section_elem, \"content\")\n",
    "                content_elem.text = content\n",
    "\n",
    "    # Pretty print XML\n",
    "    xml_str = minidom.parseString(ET.tostring(root)).toprettyxml(indent=\"    \")\n",
    "\n",
    "    # Write to file\n",
    "    with open(xml_file, \"w\") as f:\n",
    "        f.write(xml_str)"
   ]
  },
  {
   "cell_type": "code",
   "execution_count": null,
   "metadata": {},
   "outputs": [],
   "source": [
    "# Usage\n",
    "markdown_to_xml(\"output.md\", \"output.xml\")"
   ]
  },
  {
   "cell_type": "code",
   "execution_count": null,
   "metadata": {},
   "outputs": [],
   "source": [
    "result.document.model_dump_json()\n",
    "with open(\"output.json\", \"w\") as file:\n",
    "    file.write(result.document.model_dump_json())"
   ]
  }
 ],
 "metadata": {
  "kernelspec": {
   "display_name": "docling",
   "language": "python",
   "name": "python3"
  },
  "language_info": {
   "codemirror_mode": {
    "name": "ipython",
    "version": 3
   },
   "file_extension": ".py",
   "mimetype": "text/x-python",
   "name": "python",
   "nbconvert_exporter": "python",
   "pygments_lexer": "ipython3",
   "version": "3.12.9"
  }
 },
 "nbformat": 4,
 "nbformat_minor": 2
}
