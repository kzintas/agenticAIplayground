{
 "cells": [
  {
   "cell_type": "code",
   "execution_count": 8,
   "metadata": {},
   "outputs": [],
   "source": [
    "from xml.etree import ElementTree as ET\n",
    "from xml.dom import minidom"
   ]
  },
  {
   "cell_type": "code",
   "execution_count": 4,
   "metadata": {},
   "outputs": [],
   "source": [
    "text = \"\"\"Analysis Process: When first working with CoreFlowVis, Brian thought that starting with as much data as possible was a good idea. He queried for all events on the company’s website for a period of 6 months resulting in a dataset of more than 300K sequences and 5 million events. Unfortunately, he found that there were no frequent patterns for more than 40\\% of the sequences, indicating that the sequences were very heterogeneous. For the remaining sequences, the help page appears many times as the milestone. Brian was not interested in help pages, so he decided to focus on sequences landing on a portion of the website describing a particular product.\n",
    "Pattern Quality: With the sharpened focus on the input data, CoreFlowVis shows visualizations that aligned well with Brian’s knowledge. Brian had defined a funnel of important pages previously in other tools, and he was amazed that CoreFlow was able to automatically identify these pages as milestones. He commented\n",
    "“this is perfect” as the visualization also showed frequent pages visited outside the funnel and after the last page in the funnel.\n",
    "Insights Discovered: The icicle plot helped Brian find a new user segment that he wasn’t tracking already. By grouping all sequences by the first event in the sequence, Brian was able to isolate existing customers who were getting to the website from a link inside of the product. It turned out that 25% of the traffic was from this group of users and understanding their behavior was critical to understanding the traffic on the website.\n",
    "Brian was also able to see that 25% of visitors were switching from one payment plan to another. This finding helped him confirm what the company was seeing in the sales department.\n",
    "\"\"\""
   ]
  },
  {
   "cell_type": "code",
   "execution_count": 5,
   "metadata": {},
   "outputs": [],
   "source": [
    "def tokenize_text(text):\n",
    "    # Split on periods and clean up tokens\n",
    "    sentences = [s.strip() for s in text.split('.')]\n",
    "    \n",
    "    # Filter out empty strings\n",
    "    sentences = list(filter(None, sentences))\n",
    "    \n",
    "    return sentences"
   ]
  },
  {
   "cell_type": "code",
   "execution_count": 6,
   "metadata": {},
   "outputs": [],
   "source": [
    "sentences = tokenize_text(text)"
   ]
  },
  {
   "cell_type": "code",
   "execution_count": 7,
   "metadata": {},
   "outputs": [
    {
     "name": "stdout",
     "output_type": "stream",
     "text": [
      "Sentence 1: Analysis Process: When first working with CoreFlowVis, Brian thought that starting with as much data as possible was a good idea\n",
      "Sentence 2: He queried for all events on the company’s website for a period of 6 months resulting in a dataset of more than 300K sequences and 5 million events\n",
      "Sentence 3: Unfortunately, he found that there were no frequent patterns for more than 40\\% of the sequences, indicating that the sequences were very heterogeneous\n",
      "Sentence 4: For the remaining sequences, the help page appears many times as the milestone\n",
      "Sentence 5: Brian was not interested in help pages, so he decided to focus on sequences landing on a portion of the website describing a particular product\n",
      "Sentence 6: Pattern Quality: With the sharpened focus on the input data, CoreFlowVis shows visualizations that aligned well with Brian’s knowledge\n",
      "Sentence 7: Brian had defined a funnel of important pages previously in other tools, and he was amazed that CoreFlow was able to automatically identify these pages as milestones\n",
      "Sentence 8: He commented\n",
      "“this is perfect” as the visualization also showed frequent pages visited outside the funnel and after the last page in the funnel\n",
      "Sentence 9: Insights Discovered: The icicle plot helped Brian find a new user segment that he wasn’t tracking already\n",
      "Sentence 10: By grouping all sequences by the first event in the sequence, Brian was able to isolate existing customers who were getting to the website from a link inside of the product\n",
      "Sentence 11: It turned out that 25% of the traffic was from this group of users and understanding their behavior was critical to understanding the traffic on the website\n",
      "Sentence 12: Brian was also able to see that 25% of visitors were switching from one payment plan to another\n",
      "Sentence 13: This finding helped him confirm what the company was seeing in the sales department\n"
     ]
    }
   ],
   "source": [
    "# Print results\n",
    "for i, sentence in enumerate(sentences, 1):\n",
    "    print(f\"Sentence {i}: {sentence}\")"
   ]
  },
  {
   "cell_type": "code",
   "execution_count": 9,
   "metadata": {},
   "outputs": [],
   "source": [
    "def sentences_to_xml(sentences):\n",
    "    # Create root element\n",
    "    root = ET.Element(\"sentences\")\n",
    "    \n",
    "    # Add each sentence as an input element\n",
    "    for sentence in sentences:\n",
    "        input_elem = ET.SubElement(root, \"input\")\n",
    "        input_elem.text = sentence\n",
    "    \n",
    "    # Convert to string with pretty formatting\n",
    "    xml_str = minidom.parseString(ET.tostring(root)).toprettyxml(indent=\"    \")\n",
    "    return xml_str"
   ]
  },
  {
   "cell_type": "code",
   "execution_count": 10,
   "metadata": {},
   "outputs": [
    {
     "name": "stdout",
     "output_type": "stream",
     "text": [
      "<?xml version=\"1.0\" ?>\n",
      "<sentences>\n",
      "    <input>Analysis Process: When first working with CoreFlowVis, Brian thought that starting with as much data as possible was a good idea</input>\n",
      "    <input>He queried for all events on the company’s website for a period of 6 months resulting in a dataset of more than 300K sequences and 5 million events</input>\n",
      "    <input>Unfortunately, he found that there were no frequent patterns for more than 40\\% of the sequences, indicating that the sequences were very heterogeneous</input>\n",
      "    <input>For the remaining sequences, the help page appears many times as the milestone</input>\n",
      "    <input>Brian was not interested in help pages, so he decided to focus on sequences landing on a portion of the website describing a particular product</input>\n",
      "    <input>Pattern Quality: With the sharpened focus on the input data, CoreFlowVis shows visualizations that aligned well with Brian’s knowledge</input>\n",
      "    <input>Brian had defined a funnel of important pages previously in other tools, and he was amazed that CoreFlow was able to automatically identify these pages as milestones</input>\n",
      "    <input>He commented\n",
      "“this is perfect” as the visualization also showed frequent pages visited outside the funnel and after the last page in the funnel</input>\n",
      "    <input>Insights Discovered: The icicle plot helped Brian find a new user segment that he wasn’t tracking already</input>\n",
      "    <input>By grouping all sequences by the first event in the sequence, Brian was able to isolate existing customers who were getting to the website from a link inside of the product</input>\n",
      "    <input>It turned out that 25% of the traffic was from this group of users and understanding their behavior was critical to understanding the traffic on the website</input>\n",
      "    <input>Brian was also able to see that 25% of visitors were switching from one payment plan to another</input>\n",
      "    <input>This finding helped him confirm what the company was seeing in the sales department</input>\n",
      "</sentences>\n",
      "\n"
     ]
    }
   ],
   "source": [
    "# Convert sentences to XML\n",
    "xml_output = sentences_to_xml(sentences)\n",
    "\n",
    "# Print or save the result\n",
    "print(xml_output)\n",
    "\n",
    "# Optionally save to file\n",
    "with open('sentences.xml', 'w') as f:\n",
    "    f.write(xml_output)"
   ]
  }
 ],
 "metadata": {
  "kernelspec": {
   "display_name": "base",
   "language": "python",
   "name": "python3"
  },
  "language_info": {
   "codemirror_mode": {
    "name": "ipython",
    "version": 3
   },
   "file_extension": ".py",
   "mimetype": "text/x-python",
   "name": "python",
   "nbconvert_exporter": "python",
   "pygments_lexer": "ipython3",
   "version": "3.11.5"
  }
 },
 "nbformat": 4,
 "nbformat_minor": 2
}
